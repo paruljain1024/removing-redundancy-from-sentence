{
  "nbformat": 4,
  "nbformat_minor": 0,
  "metadata": {
    "colab": {
      "provenance": [],
      "authorship_tag": "ABX9TyP70uzuWJ+H98c1fGtzzqdm",
      "include_colab_link": true
    },
    "kernelspec": {
      "name": "python3",
      "display_name": "Python 3"
    },
    "language_info": {
      "name": "python"
    }
  },
  "cells": [
    {
      "cell_type": "markdown",
      "metadata": {
        "id": "view-in-github",
        "colab_type": "text"
      },
      "source": [
        "<a href=\"https://colab.research.google.com/github/paruljain1024/removing-redundancy-from-sentence/blob/main/removing_redundancy.ipynb\" target=\"_parent\"><img src=\"https://colab.research.google.com/assets/colab-badge.svg\" alt=\"Open In Colab\"/></a>"
      ]
    },
    {
      "cell_type": "code",
      "execution_count": 1,
      "metadata": {
        "colab": {
          "base_uri": "https://localhost:8080/"
        },
        "id": "Y291-xqJi2nM",
        "outputId": "9368eb8a-7186-41cd-8499-af9dd85f4962"
      },
      "outputs": [
        {
          "output_type": "stream",
          "name": "stdout",
          "text": [
            "Python is great and Java also\n"
          ]
        }
      ],
      "source": [
        "from collections import Counter\n",
        "\n",
        "def remov_duplicates(input):\n",
        "\n",
        "\t# split input string separated by space\n",
        "\tinput = input.split(\" \")\n",
        "\n",
        "\t# now create dictionary using counter method\n",
        "\t# which will have strings as key and their\n",
        "\t# frequencies as value\n",
        "\tUniqW = Counter(input)\n",
        "\n",
        "\t# joins two adjacent elements in iterable way\n",
        "\ts = \" \".join(UniqW.keys())\n",
        "\tprint (s)\n",
        "\n",
        "# Driver program\n",
        "if __name__ == \"__main__\":\n",
        "\tinput = 'Python is great and Java is also great'\n",
        "\tremov_duplicates(input)\n"
      ]
    }
  ]
}